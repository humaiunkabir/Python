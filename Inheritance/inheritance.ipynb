{
 "cells": [
  {
   "cell_type": "code",
   "execution_count": 35,
   "metadata": {},
   "outputs": [],
   "source": [
    "# Base Class Or Super Class\n",
    "class Product:\n",
    "    platform='Amazon'\n",
    "\n",
    "    def __init__(self, pid:int, title:str):\n",
    "        self.pid = pid\n",
    "        self.title = title\n",
    "        self.__code=25\n",
    "    \n",
    "    def getCode(self):\n",
    "        return self.__code\n",
    "\n",
    "    def __repr__(self):\n",
    "        return f'Product(pid={self.pid}, title=\"{self.title}\")'\n",
    "     \n"
   ]
  },
  {
   "cell_type": "code",
   "execution_count": 36,
   "metadata": {},
   "outputs": [],
   "source": [
    "# Derived Class\n",
    "class Cloth(Product):\n",
    "    def __init__(self, pid: int, title: str, category: str):\n",
    "        self.category=category\n",
    "        super().__init__(pid, title)\n",
    "    \n",
    "    def __repr__(self):\n",
    "        return f'Product(pid={self.pid}, title=\"{self.title}\", category=\"{self.category}\")'\n",
    "    "
   ]
  },
  {
   "cell_type": "code",
   "execution_count": 37,
   "metadata": {},
   "outputs": [
    {
     "name": "stdout",
     "output_type": "stream",
     "text": [
      "25 Product(pid=2, title=\"Silk Cloth\", category=\"Cloth\")\n"
     ]
    }
   ],
   "source": [
    "objCloth = Cloth(2, \"Silk Cloth\",\"Cloth\")\n",
    "print(objCloth.getCode(), objCloth)"
   ]
  },
  {
   "cell_type": "markdown",
   "metadata": {},
   "source": [
    "## Multilevel Inheritance"
   ]
  },
  {
   "cell_type": "code",
   "execution_count": 38,
   "metadata": {},
   "outputs": [],
   "source": [
    "# Multi\n",
    "class TopWear(Cloth):\n",
    "    def __init__(self, pid: int, title: str, category: str, sub_cat: str):\n",
    "        self.sub_cat = sub_cat\n",
    "        super().__init__(pid, title, category)\n",
    "\n",
    "    def __repr__(self):\n",
    "        return f'Product(pid={self.pid}, title=\"{self.title}\", category=\"{self.category}, sub_cat=\"{self.sub_cat}\")'\n"
   ]
  },
  {
   "cell_type": "code",
   "execution_count": 39,
   "metadata": {},
   "outputs": [
    {
     "data": {
      "text/plain": [
       "Product(pid=2325, title=\"TShirt\", category=\"Cloth, sub_cat=\"Top wear\")"
      ]
     },
     "execution_count": 39,
     "metadata": {},
     "output_type": "execute_result"
    }
   ],
   "source": [
    "t1 = TopWear(2325, \"TShirt\", \"Cloth\", \"Top wear\")\n",
    "t1"
   ]
  },
  {
   "cell_type": "markdown",
   "metadata": {},
   "source": [
    "## Multiple Inheritance"
   ]
  },
  {
   "cell_type": "code",
   "execution_count": 40,
   "metadata": {},
   "outputs": [],
   "source": [
    "class Seller:\n",
    "    def __init__(self, sid: int, s_name:str):\n",
    "        self.sid = sid\n",
    "        self.s_name = s_name\n",
    "    \n",
    "    def __repr__(self):\n",
    "        return f\"Seller(sid={self.sid}, s_name='{self.s_name}')\"\n",
    "    "
   ]
  },
  {
   "cell_type": "code",
   "execution_count": 41,
   "metadata": {},
   "outputs": [],
   "source": [
    "class BottomWear(Cloth, Seller):\n",
    "    def __init__(self, pid: int, title: str, category: str, sub_cat: str, sid: int, s_name:str):\n",
    "        self.sub_cat = sub_cat\n",
    "        Cloth.__init__(self, pid, title, category)\n",
    "        Seller.__init__(self, sid, s_name)\n",
    "    \n",
    "    def getClothInfo(self):\n",
    "        return Cloth.__repr__(self)\n",
    "    \n",
    "    def getSellerInfo(self):\n",
    "        return Seller.__repr__(self)\n",
    "\n",
    "    # Overriding \n",
    "    def getCode(self):\n",
    "        return True\n",
    "    "
   ]
  },
  {
   "cell_type": "code",
   "execution_count": 42,
   "metadata": {},
   "outputs": [
    {
     "data": {
      "text/plain": [
       "Product(pid=522, title=\"TShirt\", category=\"Cloth\")"
      ]
     },
     "execution_count": 42,
     "metadata": {},
     "output_type": "execute_result"
    }
   ],
   "source": [
    "b2 = BottomWear(522, \"TShirt\", \"Cloth\", \"Bottom wear\", 152, \"Sumonur Rahman\")\n",
    "b2"
   ]
  },
  {
   "cell_type": "code",
   "execution_count": 43,
   "metadata": {},
   "outputs": [
    {
     "data": {
      "text/plain": [
       "'Product(pid=522, title=\"TShirt\", category=\"Cloth\")'"
      ]
     },
     "execution_count": 43,
     "metadata": {},
     "output_type": "execute_result"
    }
   ],
   "source": [
    "b2.getClothInfo()"
   ]
  },
  {
   "cell_type": "code",
   "execution_count": 44,
   "metadata": {},
   "outputs": [
    {
     "data": {
      "text/plain": [
       "\"Seller(sid=152, s_name='Sumonur Rahman')\""
      ]
     },
     "execution_count": 44,
     "metadata": {},
     "output_type": "execute_result"
    }
   ],
   "source": [
    "b2.getSellerInfo()"
   ]
  },
  {
   "cell_type": "code",
   "execution_count": 45,
   "metadata": {},
   "outputs": [
    {
     "data": {
      "text/plain": [
       "(__main__.BottomWear,\n",
       " __main__.Cloth,\n",
       " __main__.Product,\n",
       " __main__.Seller,\n",
       " object)"
      ]
     },
     "execution_count": 45,
     "metadata": {},
     "output_type": "execute_result"
    }
   ],
   "source": [
    "BottomWear.__mro__"
   ]
  },
  {
   "cell_type": "code",
   "execution_count": 46,
   "metadata": {},
   "outputs": [
    {
     "data": {
      "text/plain": [
       "True"
      ]
     },
     "execution_count": 46,
     "metadata": {},
     "output_type": "execute_result"
    }
   ],
   "source": [
    "b2.getCode()"
   ]
  }
 ],
 "metadata": {
  "interpreter": {
   "hash": "2be5faf79681da6f2a61fdfdd5405d65d042280f7fba6178067603e3a2925119"
  },
  "kernelspec": {
   "display_name": "Python 3.10.2 64-bit",
   "language": "python",
   "name": "python3"
  },
  "language_info": {
   "codemirror_mode": {
    "name": "ipython",
    "version": 3
   },
   "file_extension": ".py",
   "mimetype": "text/x-python",
   "name": "python",
   "nbconvert_exporter": "python",
   "pygments_lexer": "ipython3",
   "version": "3.10.2"
  },
  "orig_nbformat": 4
 },
 "nbformat": 4,
 "nbformat_minor": 2
}
