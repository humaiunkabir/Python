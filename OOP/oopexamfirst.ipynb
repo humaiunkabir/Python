{
 "cells": [
  {
   "cell_type": "code",
   "execution_count": 176,
   "metadata": {},
   "outputs": [],
   "source": [
    "class Product:\n",
    "    # Class Features\n",
    "    platform = \"Amazon\"\n",
    "\n",
    "    # Constructor\n",
    "    def __init__(self, pid: int, title: str, price: float):\n",
    "        self.pid = pid\n",
    "        self.title = title\n",
    "        self.price = price\n",
    "        self.__secretcode = 52632\n",
    "    \n",
    "    # Behaviours or Methods\n",
    "    def getPrice(self) -> float:\n",
    "        return self.price\n",
    "    \n",
    "    def updatePrice(self, newPrice) -> float:\n",
    "        self.price = newPrice\n",
    "        return self.price\n",
    "    \n",
    "    # Special Function    \n",
    "    def __str__ (self)-> str:\n",
    "        return f\"Product(pid={self.pid}, title={self.title}, price={self.price})\"\n",
    "\n",
    "    def __repr__(self) -> str:\n",
    "        return self.__str__()\n",
    "\n",
    "    @property\n",
    "    def secretcode(self) -> int:            # Getter Function\n",
    "        return self.__secretcode \n",
    "        \n",
    "    @secretcode.setter\n",
    "    def secretcode(self, newcode: int):    # Setter Function\n",
    "        self.__secretcode = newcode\n",
    "    \n",
    "    @secretcode.deleter\n",
    "    def secretcode(self):                  # Setter Function\n",
    "       del self.__secretcode\n",
    "    \n",
    "    def __gt__(self, others):\n",
    "        return self.price > others.price \n",
    "    \n",
    "    def __lt__(self, others):\n",
    "        return self.price < others.price \n",
    "    \n",
    "    def __eq__(self, others):\n",
    "        return self.price == others.price \n",
    "\n",
    "    def __ge___(self, others):\n",
    "        return self.price >= others.price \n",
    "    \n",
    "    @classmethod\n",
    "    def objectFromStr(cls, string: str):\n",
    "        data = string.split(\"-\")\n",
    "        obj = cls(int(data[0]), data[1], float(data[2]))\n",
    "        return obj\n",
    "    \n",
    "    @staticmethod\n",
    "    def add(a: int, b: int):\n",
    "        return a + b"
   ]
  },
  {
   "cell_type": "markdown",
   "metadata": {},
   "source": [
    "# Creation of Object"
   ]
  },
  {
   "cell_type": "code",
   "execution_count": 177,
   "metadata": {},
   "outputs": [
    {
     "name": "stdout",
     "output_type": "stream",
     "text": [
      "Product(pid=1, title=AB(R), price=0.69)\n",
      "1 AB(R) 0.69\n",
      "1.25\n"
     ]
    },
    {
     "data": {
      "text/plain": [
       "Product(pid=1, title=AB(R), price=1.25)"
      ]
     },
     "execution_count": 177,
     "metadata": {},
     "output_type": "execute_result"
    }
   ],
   "source": [
    "abfl = Product(1, \"AB(R)\", 0.69)\n",
    "print(abfl)\n",
    "print(abfl.pid, abfl.title, abfl.price)\n",
    "abfl.updatePrice(1.25)\n",
    "print(abfl.price)\n",
    "abfl\n"
   ]
  },
  {
   "cell_type": "code",
   "execution_count": 178,
   "metadata": {},
   "outputs": [
    {
     "data": {
      "text/plain": [
       "52632"
      ]
     },
     "execution_count": 178,
     "metadata": {},
     "output_type": "execute_result"
    }
   ],
   "source": [
    "abfl.secretcode     # Calling Getter"
   ]
  },
  {
   "cell_type": "code",
   "execution_count": 179,
   "metadata": {},
   "outputs": [],
   "source": [
    "abfl.secretcode=66523  # Calling Setter"
   ]
  },
  {
   "cell_type": "code",
   "execution_count": 180,
   "metadata": {},
   "outputs": [
    {
     "data": {
      "text/plain": [
       "66523"
      ]
     },
     "execution_count": 180,
     "metadata": {},
     "output_type": "execute_result"
    }
   ],
   "source": [
    "abfl.secretcode     # Calling Getter"
   ]
  },
  {
   "cell_type": "code",
   "execution_count": 181,
   "metadata": {},
   "outputs": [],
   "source": [
    "del abfl.secretcode   # Calling Deleter"
   ]
  },
  {
   "cell_type": "code",
   "execution_count": 182,
   "metadata": {},
   "outputs": [
    {
     "name": "stdout",
     "output_type": "stream",
     "text": [
      "Feva 25\n",
      "Product(pid=1, title=Feva, price=30)\n"
     ]
    },
    {
     "data": {
      "text/plain": [
       "Product(pid=1, title=Feva, price=30)"
      ]
     },
     "execution_count": 182,
     "metadata": {},
     "output_type": "execute_result"
    }
   ],
   "source": [
    "pharmapro = Product(1, \"Feva\", 25)\n",
    "print(pharmapro.title, pharmapro.price)\n",
    "pharmapro.updatePrice(30)\n",
    "print(pharmapro)             # calling __str__()\n",
    "pharmapro                   # calling __repr__()"
   ]
  },
  {
   "cell_type": "markdown",
   "metadata": {},
   "source": [
    "## Operator Overloading"
   ]
  },
  {
   "cell_type": "code",
   "execution_count": 183,
   "metadata": {},
   "outputs": [
    {
     "data": {
      "text/plain": [
       "False"
      ]
     },
     "execution_count": 183,
     "metadata": {},
     "output_type": "execute_result"
    }
   ],
   "source": [
    "abfl > pharmapro"
   ]
  },
  {
   "cell_type": "code",
   "execution_count": 184,
   "metadata": {},
   "outputs": [
    {
     "data": {
      "text/plain": [
       "True"
      ]
     },
     "execution_count": 184,
     "metadata": {},
     "output_type": "execute_result"
    }
   ],
   "source": [
    "abfl < pharmapro"
   ]
  },
  {
   "cell_type": "code",
   "execution_count": 185,
   "metadata": {},
   "outputs": [
    {
     "data": {
      "text/plain": [
       "False"
      ]
     },
     "execution_count": 185,
     "metadata": {},
     "output_type": "execute_result"
    }
   ],
   "source": [
    "abfl == pharmapro"
   ]
  },
  {
   "cell_type": "code",
   "execution_count": 186,
   "metadata": {},
   "outputs": [
    {
     "data": {
      "text/plain": [
       "True"
      ]
     },
     "execution_count": 186,
     "metadata": {},
     "output_type": "execute_result"
    }
   ],
   "source": [
    "abfl != pharmapro"
   ]
  },
  {
   "cell_type": "code",
   "execution_count": 187,
   "metadata": {},
   "outputs": [
    {
     "data": {
      "text/plain": [
       "Product(pid=10, title=Feva Suspensan, price=56.55)"
      ]
     },
     "execution_count": 187,
     "metadata": {},
     "output_type": "execute_result"
    }
   ],
   "source": [
    "Product.objectFromStr(\"10-Feva Suspensan-56.55\")    # Calling Class Method"
   ]
  },
  {
   "cell_type": "code",
   "execution_count": 188,
   "metadata": {},
   "outputs": [
    {
     "data": {
      "text/plain": [
       "12"
      ]
     },
     "execution_count": 188,
     "metadata": {},
     "output_type": "execute_result"
    }
   ],
   "source": [
    "Product.add(2,10)           # calling Static  Method"
   ]
  }
 ],
 "metadata": {
  "interpreter": {
   "hash": "2be5faf79681da6f2a61fdfdd5405d65d042280f7fba6178067603e3a2925119"
  },
  "kernelspec": {
   "display_name": "Python 3.10.2 64-bit",
   "language": "python",
   "name": "python3"
  },
  "language_info": {
   "codemirror_mode": {
    "name": "ipython",
    "version": 3
   },
   "file_extension": ".py",
   "mimetype": "text/x-python",
   "name": "python",
   "nbconvert_exporter": "python",
   "pygments_lexer": "ipython3",
   "version": "3.10.2"
  },
  "orig_nbformat": 4
 },
 "nbformat": 4,
 "nbformat_minor": 2
}
