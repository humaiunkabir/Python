{
 "cells": [
  {
   "cell_type": "code",
   "execution_count": null,
   "metadata": {},
   "outputs": [],
   "source": [
    "class Product:\n",
    "    # Class Features\n",
    "    platform = \"Amazon\"\n",
    "\n",
    "    # Constructor\n",
    "    def __init__(self, pid: int, title: str, price: float):\n",
    "        self.pid = pid\n",
    "        self.title = title\n",
    "        self.price = price\n",
    "    \n",
    "    def getPrice(self) -> float:\n",
    "        return self.price\n",
    "     \n"
   ]
  }
 ],
 "metadata": {
  "language_info": {
   "name": "python"
  },
  "orig_nbformat": 4
 },
 "nbformat": 4,
 "nbformat_minor": 2
}
