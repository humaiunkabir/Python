{
 "cells": [
  {
   "cell_type": "markdown",
   "metadata": {},
   "source": [
    "# Database Operation"
   ]
  },
  {
   "cell_type": "code",
   "execution_count": 1,
   "metadata": {},
   "outputs": [],
   "source": [
    "import sqlite3 as sql3"
   ]
  },
  {
   "cell_type": "markdown",
   "metadata": {},
   "source": [
    "## Connect, Create DB and Create Table"
   ]
  },
  {
   "cell_type": "code",
   "execution_count": 14,
   "metadata": {},
   "outputs": [],
   "source": [
    "conn = sql3.connect(\"RPSDBT.db\")\n",
    "cursor = conn.cursor()\n",
    "\n",
    "cursor.execute(\"\"\" Create Table IF NOT EXISTS company (CompanyID INT PRIMARY KEY NOT NULL, CompanyName TEXT NOT NULL, \n",
    "                    IsActive INT, LastUpdate TIMESTAMP ) \"\"\")\n",
    "conn.close()"
   ]
  },
  {
   "cell_type": "code",
   "execution_count": 16,
   "metadata": {},
   "outputs": [],
   "source": [
    "conn = sql3.connect(\"RPSDBT.db\")\n",
    "cursor = conn.cursor()\n",
    "\n",
    "cursor.execute(\"\"\" Create Table IF NOT EXISTS vacancy (VAId INT PRIMARY KEY NOT NULL, Department TEXT NOT NULL, JobTitel TEXT NOT NULL,\n",
    "                    NoofVacancies INT NOT NULL, ApplyInstruction TEXT, JobPublicationDate TIMESTAMP NOT NULL,\n",
    "                    AppDeadline TIMESTAMP NOT NULL, AgeRange INT, Gender TEXT, JobType TEXT, Joblevel TEXT, \n",
    "                    EducationQua TEXT NOT NULL, JobDiscription TEXT, AdditionalReq TEXT, ExperienceDuration INT, \n",
    "                    ExperienceDetails TEXT, SalaryRange TEXT, JobStatus TEXT, CompanyID INT, IsClosed INT, LastUpdate TIMESTAMP,\n",
    "                    FOREIGN KEY(CompanyID) REFERENCES company(CompanyID)) \"\"\")\n",
    "conn.close()"
   ]
  },
  {
   "cell_type": "markdown",
   "metadata": {},
   "source": [
    "### INSERTING DATA IN DATABASE"
   ]
  },
  {
   "cell_type": "code",
   "execution_count": 26,
   "metadata": {},
   "outputs": [],
   "source": [
    "with sql3.connect('RPSDBT.db') as conn:\n",
    "    cursor = conn.cursor()\n",
    "    cursor.execute(\"PRAGMA foreign_keys=ON\")\n",
    "    cursor.execute(\n",
    "        \"\"\"INSERT INTO vacancy values(?,?,?,?,?,?,?,?,?,?,?,?,?,?,?,?,?,?,?,?,?)\"\"\",(\n",
    "            2, \"IT Department\", \"Django Developer\",2, \"Check\", \"2022-05-07\", \"2022-05-31\", 35, \"Male\",\"\",\"\",\n",
    "            \"BSc. In CSE\", \"Python With Django Developer\",\"\",5,\"5 Years Experience in Python Programming\", \"40000-50000\",\n",
    "            \"\",2,0,\"2022-05-07\") \n",
    "        )"
   ]
  },
  {
   "cell_type": "markdown",
   "metadata": {},
   "source": [
    "### DELETE OPERATION"
   ]
  },
  {
   "cell_type": "code",
   "execution_count": 20,
   "metadata": {},
   "outputs": [],
   "source": [
    "with sql3.connect('RPSDBT.db') as conn:\n",
    "    cursor = conn.cursor()\n",
    "    cursor.execute(\n",
    "        \"\"\"DELETE FROM vacancy where VAID=2 \"\"\"\n",
    "        ) \n",
    "        "
   ]
  },
  {
   "cell_type": "markdown",
   "metadata": {},
   "source": [
    "### UPDATE OPERATION"
   ]
  },
  {
   "cell_type": "code",
   "execution_count": 23,
   "metadata": {},
   "outputs": [],
   "source": [
    "with sql3.connect('RPSDBT.db') as conn:\n",
    "    cursor = conn.cursor()\n",
    "    cursor.execute(\n",
    "        \"\"\"UPDATE vacancy SET ApplyInstruction='Minimum BSc. In CSE' where VAID=1 \"\"\"\n",
    "        ) "
   ]
  },
  {
   "cell_type": "code",
   "execution_count": 25,
   "metadata": {},
   "outputs": [],
   "source": [
    "with sql3.connect('RPSDBT.db') as conn:\n",
    "    cursor = conn.cursor()\n",
    "    cursor.execute(\"\"\"\n",
    "    INSERT INTO company values(?,?,?,?)\"\"\",\n",
    "    (\n",
    "        2,\"Ad-din Pharma.\",1,\"2022-05-07\"\n",
    "    )\n",
    ")"
   ]
  },
  {
   "cell_type": "markdown",
   "metadata": {},
   "source": [
    "### FEATCHING DATA FROM DATABASE"
   ]
  },
  {
   "cell_type": "code",
   "execution_count": 30,
   "metadata": {},
   "outputs": [
    {
     "name": "stdout",
     "output_type": "stream",
     "text": [
      "[(1, 'Akij Biri Factory Ltd.', 1, '2022-05-07'), (2, 'Ad-din Pharma.', 1, '2022-05-07')]\n"
     ]
    }
   ],
   "source": [
    "with sql3.connect('RPSDBT.db') as conn:\n",
    "    cursor = conn.cursor()\n",
    "    restult=cursor.execute(\"\"\"SELECT * FROM COMPANY\"\"\")\n",
    "    print(list(restult))"
   ]
  },
  {
   "cell_type": "code",
   "execution_count": 33,
   "metadata": {},
   "outputs": [
    {
     "name": "stdout",
     "output_type": "stream",
     "text": [
      "[(1, 'IT Department', 'Django Developer', 5), (2, 'IT Department', 'Django Developer', 5)]\n"
     ]
    }
   ],
   "source": [
    "with sql3.connect('RPSDBT.db') as conn:\n",
    "    cursor = conn.cursor()\n",
    "    restult=cursor.execute(\"\"\"SELECT VaID, Department,JobTitel,ExperienceDuration  FROM vacancy\"\"\")\n",
    "    print(list(restult))"
   ]
  },
  {
   "cell_type": "code",
   "execution_count": 35,
   "metadata": {},
   "outputs": [],
   "source": [
    "CompnayList = []\n",
    "\n",
    "for id in range(3,20):\n",
    "    company = (id, f\"Company{id}\", 1, \"2022-05-07\")\n",
    "    CompnayList.append(company)"
   ]
  },
  {
   "cell_type": "code",
   "execution_count": 36,
   "metadata": {},
   "outputs": [],
   "source": [
    "with sql3.connect('RPSDBT.db') as conn:\n",
    "    cursor = conn.cursor()\n",
    "    cursor.executemany(\"\"\"\n",
    "    INSERT INTO company values(?,?,?,?)\"\"\",\n",
    "    (\n",
    "        CompnayList\n",
    "    )\n",
    ")"
   ]
  },
  {
   "cell_type": "code",
   "execution_count": 41,
   "metadata": {},
   "outputs": [
    {
     "name": "stdout",
     "output_type": "stream",
     "text": [
      "[(1, 'Akij Biri Factory Ltd.', 1, '2022-05-07'), (2, 'Ad-din Pharma.', 1, '2022-05-07'), (3, 'Company3', 1, '2022-05-07'), (4, 'Company4', 1, '2022-05-07'), (5, 'Company5', 1, '2022-05-07'), (6, 'Company6', 1, '2022-05-07'), (7, 'Company7', 1, '2022-05-07'), (8, 'Company8', 1, '2022-05-07'), (9, 'Company9', 1, '2022-05-07'), (10, 'Company10', 1, '2022-05-07'), (11, 'Company11', 1, '2022-05-07'), (12, 'Company12', 1, '2022-05-07'), (13, 'Company13', 1, '2022-05-07'), (14, 'Company14', 1, '2022-05-07'), (15, 'Company15', 1, '2022-05-07'), (16, 'Company16', 1, '2022-05-07'), (17, 'Company17', 1, '2022-05-07'), (18, 'Company18', 1, '2022-05-07'), (19, 'Ad-din Hospital', 1, '2022-05-07')]\n"
     ]
    }
   ],
   "source": [
    "with sql3.connect('RPSDBT.db') as conn:\n",
    "    cursor = conn.cursor()\n",
    "    restult=cursor.execute(\"\"\"SELECT * FROM COMPANY\"\"\")\n",
    "    print(list(restult))"
   ]
  },
  {
   "cell_type": "code",
   "execution_count": 40,
   "metadata": {},
   "outputs": [],
   "source": [
    "with sql3.connect('RPSDBT.db') as conn:\n",
    "    cursor = conn.cursor()\n",
    "    cursor.execute(\"\"\"Update Company set CompanyName='Ad-din Hospital' where CompanyID=19\"\"\")"
   ]
  }
 ],
 "metadata": {
  "interpreter": {
   "hash": "369f2c481f4da34e4445cda3fffd2e751bd1c4d706f27375911949ba6bb62e1c"
  },
  "kernelspec": {
   "display_name": "Python 3.10.2 64-bit",
   "language": "python",
   "name": "python3"
  },
  "language_info": {
   "codemirror_mode": {
    "name": "ipython",
    "version": 3
   },
   "file_extension": ".py",
   "mimetype": "text/x-python",
   "name": "python",
   "nbconvert_exporter": "python",
   "pygments_lexer": "ipython3",
   "version": "3.10.2"
  },
  "orig_nbformat": 4
 },
 "nbformat": 4,
 "nbformat_minor": 2
}
