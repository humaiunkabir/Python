{
 "cells": [
  {
   "cell_type": "markdown",
   "metadata": {},
   "source": []
  },
  {
   "cell_type": "markdown",
   "metadata": {},
   "source": [
    "# File Create, Write, Read, Append"
   ]
  },
  {
   "cell_type": "code",
   "execution_count": 22,
   "metadata": {},
   "outputs": [
    {
     "name": "stdout",
     "output_type": "stream",
     "text": [
      "True\n"
     ]
    }
   ],
   "source": [
    "f = open(\"file1.txt\",mode=\"w\")\n",
    "print(f.writable())\n",
    "f.writelines([\"Bangladesh is our homeland.\"])\n",
    "f.close()\n"
   ]
  },
  {
   "cell_type": "markdown",
   "metadata": {},
   "source": [
    "# Read"
   ]
  },
  {
   "cell_type": "code",
   "execution_count": 23,
   "metadata": {},
   "outputs": [
    {
     "name": "stdout",
     "output_type": "stream",
     "text": [
      "False\n",
      "['Bangladesh is our homeland.']\n"
     ]
    }
   ],
   "source": [
    "f = open(\"file1.txt\",mode=\"r\")\n",
    "print(f.writable())\n",
    "print(f.readlines())\n",
    "f.close()"
   ]
  },
  {
   "cell_type": "code",
   "execution_count": 25,
   "metadata": {},
   "outputs": [],
   "source": [
    "f = open(\"file1.txt\", mode=\"a\")\n",
    "f.write(\"We are live in Dhaka city.\")\n",
    "f.close()\n"
   ]
  },
  {
   "cell_type": "code",
   "execution_count": 26,
   "metadata": {},
   "outputs": [
    {
     "name": "stdout",
     "output_type": "stream",
     "text": [
      "['Bangladesh is our homeland.We are live in Dhaka city.We are live in Dhaka city.']\n"
     ]
    }
   ],
   "source": [
    "f = open(\"file1.txt\", mode=\"r\")\n",
    "print(f.readlines())\n",
    "f.close()\n"
   ]
  },
  {
   "cell_type": "markdown",
   "metadata": {},
   "source": [
    "## Exclusive Mode"
   ]
  },
  {
   "cell_type": "code",
   "execution_count": 29,
   "metadata": {},
   "outputs": [
    {
     "ename": "FileExistsError",
     "evalue": "[Errno 17] File exists: 'file2.txt'",
     "output_type": "error",
     "traceback": [
      "\u001b[1;31m---------------------------------------------------------------------------\u001b[0m",
      "\u001b[1;31mFileExistsError\u001b[0m                           Traceback (most recent call last)",
      "\u001b[1;32mg:\\HR_Venture_Python_Django_Training\\ProjectAll\\Python\\FileStorage\\filestoragecl.ipynb Cell 9'\u001b[0m in \u001b[0;36m<module>\u001b[1;34m\u001b[0m\n\u001b[1;32m----> <a href='vscode-notebook-cell:/g%3A/HR_Venture_Python_Django_Training/ProjectAll/Python/FileStorage/filestoragecl.ipynb#ch0000010?line=0'>1</a>\u001b[0m f \u001b[39m=\u001b[39m \u001b[39mopen\u001b[39;49m(\u001b[39m\"\u001b[39;49m\u001b[39mfile2.txt\u001b[39;49m\u001b[39m\"\u001b[39;49m, mode\u001b[39m=\u001b[39;49m\u001b[39m\"\u001b[39;49m\u001b[39mx\u001b[39;49m\u001b[39m\"\u001b[39;49m)\n\u001b[0;32m      <a href='vscode-notebook-cell:/g%3A/HR_Venture_Python_Django_Training/ProjectAll/Python/FileStorage/filestoragecl.ipynb#ch0000010?line=1'>2</a>\u001b[0m f\u001b[39m.\u001b[39mwrite(\u001b[39m\"\u001b[39m\u001b[39mThis is Exclusive Mode\u001b[39m\u001b[39m\"\u001b[39m)\n\u001b[0;32m      <a href='vscode-notebook-cell:/g%3A/HR_Venture_Python_Django_Training/ProjectAll/Python/FileStorage/filestoragecl.ipynb#ch0000010?line=2'>3</a>\u001b[0m f\u001b[39m.\u001b[39mclose()\n",
      "\u001b[1;31mFileExistsError\u001b[0m: [Errno 17] File exists: 'file2.txt'"
     ]
    }
   ],
   "source": [
    "f = open(\"file2.txt\", mode=\"x\")\n",
    "f.write(\"This is Exclusive Mode\")\n",
    "f.close()"
   ]
  },
  {
   "cell_type": "markdown",
   "metadata": {},
   "source": [
    "## Read and Write Mode"
   ]
  },
  {
   "cell_type": "code",
   "execution_count": 30,
   "metadata": {},
   "outputs": [
    {
     "name": "stdout",
     "output_type": "stream",
     "text": [
      "['This is Exclusive ModeThis is Read and Write Mode Both\\n', 'This is Read and Write Mode Both1\\n', 'This is Read and Write Mode Both2\\n']\n"
     ]
    }
   ],
   "source": [
    "f = open(\"file2.txt\", mode=\"r+\")\n",
    "f.writelines(\"This is Read and Write Mode Both\\n\")\n",
    "f.writelines(\"This is Read and Write Mode Both1\\n\")\n",
    "f.writelines(\"This is Read and Write Mode Both2\\n\")\n",
    "print(f.readlines())\n",
    "f.close()"
   ]
  }
 ],
 "metadata": {
  "interpreter": {
   "hash": "2be5faf79681da6f2a61fdfdd5405d65d042280f7fba6178067603e3a2925119"
  },
  "kernelspec": {
   "display_name": "Python 3.10.2 64-bit",
   "language": "python",
   "name": "python3"
  },
  "language_info": {
   "codemirror_mode": {
    "name": "ipython",
    "version": 3
   },
   "file_extension": ".py",
   "mimetype": "text/x-python",
   "name": "python",
   "nbconvert_exporter": "python",
   "pygments_lexer": "ipython3",
   "version": "3.10.2"
  },
  "orig_nbformat": 4
 },
 "nbformat": 4,
 "nbformat_minor": 2
}
