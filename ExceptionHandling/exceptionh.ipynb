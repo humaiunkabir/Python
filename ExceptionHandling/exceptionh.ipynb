{
 "cells": [
  {
   "cell_type": "markdown",
   "metadata": {},
   "source": [
    "## Exception Handling"
   ]
  },
  {
   "cell_type": "code",
   "execution_count": null,
   "metadata": {},
   "outputs": [],
   "source": [
    "try:\n",
    "    num=5\n",
    "    r = num/0\n",
    "except Exception as ex:\n",
    "    print(ex)"
   ]
  },
  {
   "cell_type": "code",
   "execution_count": 11,
   "metadata": {},
   "outputs": [
    {
     "name": "stdout",
     "output_type": "stream",
     "text": [
      "division by zero\n",
      "Finally\n"
     ]
    }
   ],
   "source": [
    "try:\n",
    "    num=5\n",
    "    r = num/0\n",
    "except ZeroDivisionError as ex:\n",
    "    print(ex)\n",
    "except TypeError as ex:\n",
    "    print(ex)\n",
    "except Exception as ex:\n",
    "    print(ex)\n",
    "finally:\n",
    "    print(\"Finally\")"
   ]
  },
  {
   "cell_type": "code",
   "execution_count": 12,
   "metadata": {},
   "outputs": [
    {
     "name": "stdout",
     "output_type": "stream",
     "text": [
      "No Exception\n"
     ]
    }
   ],
   "source": [
    "try:\n",
    "    num=5\n",
    "    r = num/1\n",
    "except ZeroDivisionError as ex:\n",
    "    print(ex)\n",
    "except TypeError as ex:\n",
    "    print(ex)\n",
    "except Exception as ex:\n",
    "    print(ex)\n",
    "else:\n",
    "    print(\"No Exception\")"
   ]
  },
  {
   "cell_type": "markdown",
   "metadata": {},
   "source": [
    "## Custom Exception"
   ]
  },
  {
   "cell_type": "code",
   "execution_count": 13,
   "metadata": {},
   "outputs": [
    {
     "ename": "Exception",
     "evalue": "Age Error",
     "output_type": "error",
     "traceback": [
      "\u001b[1;31m---------------------------------------------------------------------------\u001b[0m",
      "\u001b[1;31mException\u001b[0m                                 Traceback (most recent call last)",
      "\u001b[1;32mg:\\HR_Venture_Python_Django_Training\\ProjectAll\\Python\\ExceptionHandling\\exceptionh.ipynb Cell 6'\u001b[0m in \u001b[0;36m<module>\u001b[1;34m\u001b[0m\n\u001b[0;32m      <a href='vscode-notebook-cell:/g%3A/HR_Venture_Python_Django_Training/ProjectAll/Python/ExceptionHandling/exceptionh.ipynb#ch0000004?line=0'>1</a>\u001b[0m age \u001b[39m=\u001b[39m \u001b[39m14\u001b[39m\n\u001b[0;32m      <a href='vscode-notebook-cell:/g%3A/HR_Venture_Python_Django_Training/ProjectAll/Python/ExceptionHandling/exceptionh.ipynb#ch0000004?line=1'>2</a>\u001b[0m \u001b[39mif\u001b[39;00m age \u001b[39m<\u001b[39m \u001b[39m18\u001b[39m:\n\u001b[1;32m----> <a href='vscode-notebook-cell:/g%3A/HR_Venture_Python_Django_Training/ProjectAll/Python/ExceptionHandling/exceptionh.ipynb#ch0000004?line=2'>3</a>\u001b[0m     \u001b[39mraise\u001b[39;00m \u001b[39mException\u001b[39;00m(\u001b[39m\"\u001b[39m\u001b[39mAge Error\u001b[39m\u001b[39m\"\u001b[39m)\n",
      "\u001b[1;31mException\u001b[0m: Age Error"
     ]
    }
   ],
   "source": [
    "age = 14\n",
    "if age < 18:\n",
    "    raise Exception(\"Age Error\")"
   ]
  },
  {
   "cell_type": "code",
   "execution_count": 14,
   "metadata": {},
   "outputs": [],
   "source": [
    "class AgeError(Exception):\n",
    "    def __init__(self, age:int, msg:str):\n",
    "        self.age = age\n",
    "        self.msg = msg\n",
    "        super().__init__(self, age, msg)\n"
   ]
  },
  {
   "cell_type": "code",
   "execution_count": 15,
   "metadata": {},
   "outputs": [
    {
     "ename": "AgeError",
     "evalue": "(AgeError(...), 14, 'Age Error')",
     "output_type": "error",
     "traceback": [
      "\u001b[1;31m---------------------------------------------------------------------------\u001b[0m",
      "\u001b[1;31mAgeError\u001b[0m                                  Traceback (most recent call last)",
      "\u001b[1;32mg:\\HR_Venture_Python_Django_Training\\ProjectAll\\Python\\ExceptionHandling\\exceptionh.ipynb Cell 8'\u001b[0m in \u001b[0;36m<module>\u001b[1;34m\u001b[0m\n\u001b[0;32m      <a href='vscode-notebook-cell:/g%3A/HR_Venture_Python_Django_Training/ProjectAll/Python/ExceptionHandling/exceptionh.ipynb#ch0000007?line=0'>1</a>\u001b[0m age \u001b[39m=\u001b[39m \u001b[39m14\u001b[39m\n\u001b[0;32m      <a href='vscode-notebook-cell:/g%3A/HR_Venture_Python_Django_Training/ProjectAll/Python/ExceptionHandling/exceptionh.ipynb#ch0000007?line=1'>2</a>\u001b[0m \u001b[39mif\u001b[39;00m age \u001b[39m<\u001b[39m \u001b[39m18\u001b[39m:\n\u001b[1;32m----> <a href='vscode-notebook-cell:/g%3A/HR_Venture_Python_Django_Training/ProjectAll/Python/ExceptionHandling/exceptionh.ipynb#ch0000007?line=2'>3</a>\u001b[0m     \u001b[39mraise\u001b[39;00m AgeError(\u001b[39m14\u001b[39m, \u001b[39m\"\u001b[39m\u001b[39mAge Error\u001b[39m\u001b[39m\"\u001b[39m)\n",
      "\u001b[1;31mAgeError\u001b[0m: (AgeError(...), 14, 'Age Error')"
     ]
    }
   ],
   "source": [
    "age = 14\n",
    "if age < 18:\n",
    "    raise AgeError(14, \"Age Error\")"
   ]
  },
  {
   "cell_type": "markdown",
   "metadata": {},
   "source": [
    "## Assertion Error"
   ]
  },
  {
   "cell_type": "code",
   "execution_count": 18,
   "metadata": {},
   "outputs": [
    {
     "ename": "AssertionError",
     "evalue": "Age < 18",
     "output_type": "error",
     "traceback": [
      "\u001b[1;31m---------------------------------------------------------------------------\u001b[0m",
      "\u001b[1;31mAssertionError\u001b[0m                            Traceback (most recent call last)",
      "\u001b[1;32mg:\\HR_Venture_Python_Django_Training\\ProjectAll\\Python\\ExceptionHandling\\exceptionh.ipynb Cell 10'\u001b[0m in \u001b[0;36m<module>\u001b[1;34m\u001b[0m\n\u001b[0;32m      <a href='vscode-notebook-cell:/g%3A/HR_Venture_Python_Django_Training/ProjectAll/Python/ExceptionHandling/exceptionh.ipynb#ch0000009?line=0'>1</a>\u001b[0m age \u001b[39m=\u001b[39m \u001b[39m14\u001b[39m\n\u001b[1;32m----> <a href='vscode-notebook-cell:/g%3A/HR_Venture_Python_Django_Training/ProjectAll/Python/ExceptionHandling/exceptionh.ipynb#ch0000009?line=2'>3</a>\u001b[0m \u001b[39massert\u001b[39;00m age\u001b[39m>\u001b[39m\u001b[39m18\u001b[39m, \u001b[39m\"\u001b[39m\u001b[39mAge < 18\u001b[39m\u001b[39m\"\u001b[39m\n",
      "\u001b[1;31mAssertionError\u001b[0m: Age < 18"
     ]
    }
   ],
   "source": [
    "age = 14\n",
    "\n",
    "assert age>18, \"Age < 18\""
   ]
  }
 ],
 "metadata": {
  "interpreter": {
   "hash": "2be5faf79681da6f2a61fdfdd5405d65d042280f7fba6178067603e3a2925119"
  },
  "kernelspec": {
   "display_name": "Python 3.10.2 64-bit",
   "language": "python",
   "name": "python3"
  },
  "language_info": {
   "codemirror_mode": {
    "name": "ipython",
    "version": 3
   },
   "file_extension": ".py",
   "mimetype": "text/x-python",
   "name": "python",
   "nbconvert_exporter": "python",
   "pygments_lexer": "ipython3",
   "version": "3.10.2"
  },
  "orig_nbformat": 4
 },
 "nbformat": 4,
 "nbformat_minor": 2
}
