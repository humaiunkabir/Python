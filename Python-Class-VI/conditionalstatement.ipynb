{
 "cells": [
  {
   "cell_type": "markdown",
   "metadata": {},
   "source": []
  },
  {
   "cell_type": "code",
   "execution_count": null,
   "metadata": {},
   "outputs": [],
   "source": [
    "age=20\n",
    "salary=50000\n",
    "if age>=18:\n",
    "    if salary > 200000:\n",
    "        print(\"Eligible for Diamond Creadit Card!\")\n",
    "    elif salary>100000:\n",
    "        print(\"Eligible for Gold Creadit Card!\")\n",
    "    elif salary>100000:\n",
    "        print(\"Eligible for Platinum Creadit Card!\")\n",
    "    else:\n",
    "        print(\"Eligible for Creadit Card!\")\n",
    "else age >= 14:\n",
    "    print(\"Eligible for Green Card!\")\n",
    "else:\n",
    "    print(\"Not Eligible!\")\n",
    "\n",
    "Print(\"Something\")"
   ]
  },
  {
   "cell_type": "code",
   "execution_count": null,
   "metadata": {},
   "outputs": [],
   "source": [
    "num=3\n",
    "value = num**2 if num%2=0"
   ]
  }
 ],
 "metadata": {
  "language_info": {
   "name": "python"
  },
  "orig_nbformat": 4
 },
 "nbformat": 4,
 "nbformat_minor": 2
}
